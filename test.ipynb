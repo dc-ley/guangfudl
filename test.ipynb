{
 "cells": [
  {
   "cell_type": "code",
   "execution_count": null,
   "metadata": {},
   "outputs": [],
   "source": [
    "import cut_pic"
   ]
  },
  {
   "cell_type": "code",
   "execution_count": null,
   "metadata": {},
   "outputs": [],
   "source": [
    "%matplotlib inline\n",
    "import matplotlib.pyplot as plt"
   ]
  },
  {
   "cell_type": "code",
   "execution_count": null,
   "metadata": {},
   "outputs": [],
   "source": [
    "import numpy as np\n",
    "from PIL import Image"
   ]
  },
  {
   "cell_type": "code",
   "execution_count": null,
   "metadata": {},
   "outputs": [],
   "source": [
    "# path =r'C:\\Users\\leyuan\\Desktop\\second term of second postgraduate year\\数据诊所\\光伏组件短路检测\\短路\\11812110280163_D4.jpg'  # 7320*3778\n",
    "# path =r'C:\\Users\\leyuan\\Desktop\\second term of second postgraduate year\\数据诊所\\光伏组件短路检测\\短路\\11812110540646_C20,D20.jpg' # 6120*3778\n",
    "# path =r'C:\\Users\\leyuan\\Desktop\\second term of second postgraduate year\\数据诊所\\光伏组件短路检测\\明暗片\\441402I1321688.jpg' # 7296*3696\n",
    "# path =r'C:\\Users\\leyuan\\Desktop\\second term of second postgraduate year\\数据诊所\\光伏组件短路检测\\明暗片\\441420I1310954.jpg' # 7296*3754\n",
    "# test = Image.open(path)"
   ]
  },
  {
   "cell_type": "code",
   "execution_count": null,
   "metadata": {},
   "outputs": [],
   "source": [
    "test.size"
   ]
  },
  {
   "cell_type": "markdown",
   "metadata": {},
   "source": [
    "**去除边界黑框**\n",
    "\n",
    "cut_points = [60, 65, 7320-60, 3778-120]   # 针对size为7320*3778\n",
    "\n",
    "cut_points = [65, 65, 6120-65, 3778-125]   # 针对size为6120*3778\n",
    "\n",
    "cut_points = [50, 50, 7296-55, 3696-60]    # 针对size为7296*3696\n",
    "\n",
    "cut_points = [50, 50, 7296-55, 3754-115]   # 针对size为7296*3754"
   ]
  },
  {
   "cell_type": "code",
   "execution_count": null,
   "metadata": {},
   "outputs": [],
   "source": [
    "cut_points = [60, 65, 7320-60, 3778-120]\n",
    "test = test.crop(cut_points)"
   ]
  },
  {
   "cell_type": "code",
   "execution_count": null,
   "metadata": {},
   "outputs": [],
   "source": [
    "pic = np.asarray(test)"
   ]
  },
  {
   "cell_type": "code",
   "execution_count": null,
   "metadata": {
    "scrolled": true
   },
   "outputs": [],
   "source": [
    "pic.shape"
   ]
  },
  {
   "cell_type": "code",
   "execution_count": null,
   "metadata": {},
   "outputs": [],
   "source": [
    "cut_pic.grid_cut(pic, 6, 24, True)"
   ]
  },
  {
   "cell_type": "code",
   "execution_count": null,
   "metadata": {},
   "outputs": [],
   "source": [
    "cut_pic.get_cut_line(pic, 6, 24, True)"
   ]
  },
  {
   "cell_type": "code",
   "execution_count": null,
   "metadata": {},
   "outputs": [],
   "source": [
    "plt.imshow(pic[0:1195, 0:600])"
   ]
  },
  {
   "cell_type": "markdown",
   "metadata": {},
   "source": [
    "**灰度尺（20级）**"
   ]
  },
  {
   "cell_type": "code",
   "execution_count": null,
   "metadata": {
    "scrolled": true
   },
   "outputs": [],
   "source": [
    "gray_scale = np.linspace(1, 255, 20, endpoint=True).round()\n",
    "gray_scale = np.asarray(gray_scale, dtype=int)\n",
    "gray_scale"
   ]
  },
  {
   "cell_type": "code",
   "execution_count": null,
   "metadata": {},
   "outputs": [],
   "source": [
    "gs=np.zeros((10,20,3))\n",
    "gs.shape"
   ]
  },
  {
   "cell_type": "code",
   "execution_count": null,
   "metadata": {},
   "outputs": [],
   "source": [
    "for i in range(len(gray_scale)):\n",
    "    gs[:,i,:] = gray_scale[i] + gs[:,i,:]"
   ]
  },
  {
   "cell_type": "code",
   "execution_count": null,
   "metadata": {},
   "outputs": [],
   "source": [
    "plt.imshow(gs)"
   ]
  },
  {
   "cell_type": "markdown",
   "metadata": {},
   "source": [
    "**对切割下来的每一小块的像素值按照从大到小排列，求 wisorized mean，或者取其中位数代表该块硅片的灰度值**"
   ]
  },
  {
   "cell_type": "code",
   "execution_count": null,
   "metadata": {},
   "outputs": [],
   "source": [
    "path =r'C:\\Users\\leyuan\\Desktop\\second term of second postgraduate year\\数据诊所\\光伏组件短路检测\\明暗片\\441402I1321688.jpg'\n",
    "test = Image.open(path)\n",
    "test.size"
   ]
  },
  {
   "cell_type": "code",
   "execution_count": null,
   "metadata": {},
   "outputs": [],
   "source": [
    "def cut_edge(img):\n",
    "    if img.size == (7296, 3696):\n",
    "        img = img.crop([50, 50, 7296-55, 3696-60])\n",
    "    else:\n",
    "        img = img.crop([50, 50, 7296-55, 3754-115])\n",
    "    return img"
   ]
  },
  {
   "cell_type": "code",
   "execution_count": null,
   "metadata": {},
   "outputs": [],
   "source": [
    "test = cut_edge(test)"
   ]
  },
  {
   "cell_type": "code",
   "execution_count": null,
   "metadata": {},
   "outputs": [],
   "source": [
    "test.size"
   ]
  },
  {
   "cell_type": "code",
   "execution_count": null,
   "metadata": {},
   "outputs": [],
   "source": [
    "pic = np.asarray(test)"
   ]
  },
  {
   "cell_type": "code",
   "execution_count": null,
   "metadata": {},
   "outputs": [],
   "source": [
    "pic.shape"
   ]
  },
  {
   "cell_type": "code",
   "execution_count": null,
   "metadata": {},
   "outputs": [],
   "source": [
    "cut_points = cut_pic.get_cut_line(pic, 6, 12, True)"
   ]
  },
  {
   "cell_type": "code",
   "execution_count": null,
   "metadata": {},
   "outputs": [],
   "source": [
    "cut_points"
   ]
  },
  {
   "cell_type": "code",
   "execution_count": null,
   "metadata": {},
   "outputs": [],
   "source": [
    "cut_mat = np.zeros((6*12, 4), dtype=int)"
   ]
  },
  {
   "cell_type": "code",
   "execution_count": null,
   "metadata": {
    "scrolled": true
   },
   "outputs": [],
   "source": [
    "l = 0\n",
    "for i in range(len(cut_points[1])-1):\n",
    "    for j in range(len(cut_points[0])-1):\n",
    "        tmp = [cut_points[1][i], cut_points[1][i+1], cut_points[0][j], cut_points[0][j+1]]\n",
    "        cut_mat[l,:] = tmp\n",
    "        l += 1"
   ]
  },
  {
   "cell_type": "code",
   "execution_count": null,
   "metadata": {},
   "outputs": [],
   "source": [
    "cut_mat"
   ]
  },
  {
   "cell_type": "code",
   "execution_count": null,
   "metadata": {},
   "outputs": [],
   "source": [
    "plt.imshow(pic[cut_mat[0,:][0]:cut_mat[0,:][1], cut_mat[0,:][2]:cut_mat[0,:][3], :])"
   ]
  },
  {
   "cell_type": "code",
   "execution_count": null,
   "metadata": {},
   "outputs": [],
   "source": [
    "# tmp = pic[cut_mat[0,:][0]:cut_mat[0,:][1], cut_mat[0,:][2]:cut_mat[0,:][3], 0]"
   ]
  },
  {
   "cell_type": "code",
   "execution_count": null,
   "metadata": {},
   "outputs": [],
   "source": [
    "med = np.zeros((1, 6*12), dtype=int)\n",
    "for i in range(6*12):\n",
    "    tmp = pic[cut_mat[i,:][0]:cut_mat[i,:][1], cut_mat[i,:][2]:cut_mat[i,:][3], 0]\n",
    "    med[0,i] = np.median(tmp.ravel())    "
   ]
  },
  {
   "cell_type": "code",
   "execution_count": null,
   "metadata": {},
   "outputs": [],
   "source": [
    "# tmp = np.abs(118 - gray_scale)"
   ]
  },
  {
   "cell_type": "code",
   "execution_count": null,
   "metadata": {
    "scrolled": true
   },
   "outputs": [],
   "source": [
    "# np.where(tmp == np.min(tmp))[0][0]"
   ]
  },
  {
   "cell_type": "code",
   "execution_count": null,
   "metadata": {},
   "outputs": [],
   "source": [
    "def match_gray_scale(pixel):\n",
    "    tmp = np.abs(pixel - gray_scale)\n",
    "    return np.where(tmp == np.min(tmp))[0][0]"
   ]
  },
  {
   "cell_type": "code",
   "execution_count": null,
   "metadata": {},
   "outputs": [],
   "source": [
    "results = []\n",
    "for i in range(72):\n",
    "    results.append(match_gray_scale(med[0][i]))"
   ]
  },
  {
   "cell_type": "code",
   "execution_count": null,
   "metadata": {},
   "outputs": [],
   "source": [
    "np.max(results)-np.min(results)"
   ]
  },
  {
   "cell_type": "code",
   "execution_count": null,
   "metadata": {},
   "outputs": [],
   "source": [
    "from scipy import stats"
   ]
  },
  {
   "cell_type": "code",
   "execution_count": null,
   "metadata": {},
   "outputs": [],
   "source": [
    "stats.mode(results)[0][0]"
   ]
  },
  {
   "cell_type": "code",
   "execution_count": null,
   "metadata": {},
   "outputs": [],
   "source": [
    "from collections import Counter"
   ]
  },
  {
   "cell_type": "code",
   "execution_count": null,
   "metadata": {},
   "outputs": [],
   "source": [
    "results.ravel()"
   ]
  },
  {
   "cell_type": "code",
   "execution_count": null,
   "metadata": {},
   "outputs": [],
   "source": [
    "freq = Counter(results.ravel())\n",
    "freq"
   ]
  },
  {
   "cell_type": "code",
   "execution_count": null,
   "metadata": {},
   "outputs": [],
   "source": [
    "freq.most_common()[-1][0]"
   ]
  },
  {
   "cell_type": "code",
   "execution_count": null,
   "metadata": {},
   "outputs": [],
   "source": [
    "results = np.array(results).reshape((1, 6*12))"
   ]
  },
  {
   "cell_type": "code",
   "execution_count": null,
   "metadata": {},
   "outputs": [],
   "source": [
    "np.where(results == 8)"
   ]
  },
  {
   "cell_type": "code",
   "execution_count": null,
   "metadata": {},
   "outputs": [],
   "source": [
    "loc = np.where(results == 9)[1]\n",
    "loc"
   ]
  },
  {
   "cell_type": "code",
   "execution_count": null,
   "metadata": {},
   "outputs": [],
   "source": [
    "loc[1]"
   ]
  },
  {
   "cell_type": "code",
   "execution_count": null,
   "metadata": {},
   "outputs": [],
   "source": [
    "len(loc)"
   ]
  },
  {
   "cell_type": "code",
   "execution_count": null,
   "metadata": {},
   "outputs": [],
   "source": [
    "for i in range(len(loc)):\n",
    "    plt.figure(i)\n",
    "    plt.imshow(pic[cut_mat[loc[i],:][0]:cut_mat[loc[i],:][1], cut_mat[loc[i],:][2]:cut_mat[loc[i],:][3], :])"
   ]
  },
  {
   "cell_type": "code",
   "execution_count": null,
   "metadata": {},
   "outputs": [],
   "source": [
    "cut_mat[33,:]"
   ]
  },
  {
   "cell_type": "code",
   "execution_count": null,
   "metadata": {},
   "outputs": [],
   "source": [
    "plt.imshow(pic[cut_mat[7,:][0]:cut_mat[7,:][1], cut_mat[7,:][2]:cut_mat[7,:][3], :])"
   ]
  },
  {
   "cell_type": "markdown",
   "metadata": {},
   "source": [
    "## 封装成函数"
   ]
  },
  {
   "cell_type": "code",
   "execution_count": 1,
   "metadata": {},
   "outputs": [],
   "source": [
    "import cut_pic\n",
    "%matplotlib inline\n",
    "import matplotlib.pyplot as plt\n",
    "import numpy as np\n",
    "from PIL import Image\n",
    "from scipy import stats\n",
    "from collections import Counter"
   ]
  },
  {
   "cell_type": "code",
   "execution_count": 9,
   "metadata": {},
   "outputs": [],
   "source": [
    "import os"
   ]
  },
  {
   "cell_type": "code",
   "execution_count": 12,
   "metadata": {},
   "outputs": [],
   "source": [
    "pic_path =r'C:\\Users\\leyuan\\Desktop\\second term of second postgraduate year\\数据诊所\\光伏组件短路检测\\明暗片'\n",
    "pic_names = os.listdir(pic_path)"
   ]
  },
  {
   "cell_type": "code",
   "execution_count": 21,
   "metadata": {},
   "outputs": [],
   "source": [
    "paths = [pic_path + '\\\\'+name for name in pic_names]"
   ]
  },
  {
   "cell_type": "code",
   "execution_count": 2,
   "metadata": {},
   "outputs": [],
   "source": [
    "# path =r'C:\\Users\\leyuan\\Desktop\\second term of second postgraduate year\\数据诊所\\光伏组件短路检测\\明暗片\\441402I1321688.jpg'"
   ]
  },
  {
   "cell_type": "code",
   "execution_count": 7,
   "metadata": {},
   "outputs": [],
   "source": [
    "## 灰度尺\n",
    "gray_scale = np.linspace(1, 255, 20, endpoint=True).round()\n",
    "gray_scale = np.asarray(gray_scale, dtype=int)"
   ]
  },
  {
   "cell_type": "code",
   "execution_count": 3,
   "metadata": {},
   "outputs": [],
   "source": [
    "def cut_edge(img):\n",
    "    if img.size == (7296, 3696):\n",
    "        img = img.crop([50, 50, 7296-55, 3696-60])\n",
    "    else:\n",
    "        img = img.crop([50, 50, 7296-55, 3754-115])\n",
    "    return img"
   ]
  },
  {
   "cell_type": "code",
   "execution_count": 4,
   "metadata": {},
   "outputs": [],
   "source": [
    "def match_gray_scale(pixel):\n",
    "    tmp = np.abs(pixel - gray_scale)\n",
    "    return np.where(tmp == np.min(tmp))[0][0]"
   ]
  },
  {
   "cell_type": "code",
   "execution_count": 37,
   "metadata": {},
   "outputs": [],
   "source": [
    "def light_or_dark(path, rows, cols):\n",
    "    img = Image.open(path)\n",
    "    img = cut_edge(img)\n",
    "    pic = np.asarray(img)\n",
    "    cut_points = cut_pic.get_cut_line(pic, rows, cols, True)\n",
    "    cut_mat = np.zeros((rows*cols, 4), dtype=int)\n",
    "    l = 0\n",
    "    for i in range(len(cut_points[1])-1):\n",
    "        for j in range(len(cut_points[0])-1):\n",
    "            tmp = [cut_points[1][i], cut_points[1][i+1], cut_points[0][j], cut_points[0][j+1]]\n",
    "            cut_mat[l,:] = tmp\n",
    "            l += 1\n",
    "    med = np.zeros((1, rows*cols), dtype=int)\n",
    "    for i in range(rows*cols):\n",
    "        tmp = pic[cut_mat[i,:][0]:cut_mat[i,:][1], cut_mat[i,:][2]:cut_mat[i,:][3], 0]\n",
    "        med[0,i] = np.median(tmp.ravel())\n",
    "    results = []\n",
    "    for i in range(rows*cols):\n",
    "        results.append(match_gray_scale(med[0][i]))\n",
    "    results = np.array(results).reshape((1, rows*cols))\n",
    "    gray_range = np.max(results)-np.min(results)\n",
    "    freq = Counter(results.ravel())\n",
    "    index = freq.most_common()[-1][0]\n",
    "    loc = np.where(results == index)[1]\n",
    "    #for i in range(len(loc)):\n",
    "        #plt.imshow(pic[cut_mat[loc[i],:][0]:cut_mat[loc[i],:][1], cut_mat[loc[i],:][2]:cut_mat[loc[i],:][3], :])\n",
    "    if gray_range >= 5:\n",
    "        qualified = False\n",
    "    else:\n",
    "        qualified = True\n",
    "    return list([qualified, cut_mat, freq, loc])\n",
    "    #return qualified"
   ]
  },
  {
   "cell_type": "code",
   "execution_count": 38,
   "metadata": {
    "collapsed": true
   },
   "outputs": [
    {
     "data": {
      "text/plain": [
       "[True, array([[   0,  598,    0,  597],\n",
       "        [   0,  598,  597, 1197],\n",
       "        [   0,  598, 1197, 1798],\n",
       "        [   0,  598, 1798, 2397],\n",
       "        [   0,  598, 2397, 2996],\n",
       "        [   0,  598, 2996, 3598],\n",
       "        [   0,  598, 3598, 4196],\n",
       "        [   0,  598, 4196, 4798],\n",
       "        [   0,  598, 4798, 5398],\n",
       "        [   0,  598, 5398, 5997],\n",
       "        [   0,  598, 5997, 6597],\n",
       "        [   0,  598, 6597, 7190],\n",
       "        [ 598, 1197,    0,  597],\n",
       "        [ 598, 1197,  597, 1197],\n",
       "        [ 598, 1197, 1197, 1798],\n",
       "        [ 598, 1197, 1798, 2397],\n",
       "        [ 598, 1197, 2397, 2996],\n",
       "        [ 598, 1197, 2996, 3598],\n",
       "        [ 598, 1197, 3598, 4196],\n",
       "        [ 598, 1197, 4196, 4798],\n",
       "        [ 598, 1197, 4798, 5398],\n",
       "        [ 598, 1197, 5398, 5997],\n",
       "        [ 598, 1197, 5997, 6597],\n",
       "        [ 598, 1197, 6597, 7190],\n",
       "        [1197, 1799,    0,  597],\n",
       "        [1197, 1799,  597, 1197],\n",
       "        [1197, 1799, 1197, 1798],\n",
       "        [1197, 1799, 1798, 2397],\n",
       "        [1197, 1799, 2397, 2996],\n",
       "        [1197, 1799, 2996, 3598],\n",
       "        [1197, 1799, 3598, 4196],\n",
       "        [1197, 1799, 4196, 4798],\n",
       "        [1197, 1799, 4798, 5398],\n",
       "        [1197, 1799, 5398, 5997],\n",
       "        [1197, 1799, 5997, 6597],\n",
       "        [1197, 1799, 6597, 7190],\n",
       "        [1799, 2398,    0,  597],\n",
       "        [1799, 2398,  597, 1197],\n",
       "        [1799, 2398, 1197, 1798],\n",
       "        [1799, 2398, 1798, 2397],\n",
       "        [1799, 2398, 2397, 2996],\n",
       "        [1799, 2398, 2996, 3598],\n",
       "        [1799, 2398, 3598, 4196],\n",
       "        [1799, 2398, 4196, 4798],\n",
       "        [1799, 2398, 4798, 5398],\n",
       "        [1799, 2398, 5398, 5997],\n",
       "        [1799, 2398, 5997, 6597],\n",
       "        [1799, 2398, 6597, 7190],\n",
       "        [2398, 2998,    0,  597],\n",
       "        [2398, 2998,  597, 1197],\n",
       "        [2398, 2998, 1197, 1798],\n",
       "        [2398, 2998, 1798, 2397],\n",
       "        [2398, 2998, 2397, 2996],\n",
       "        [2398, 2998, 2996, 3598],\n",
       "        [2398, 2998, 3598, 4196],\n",
       "        [2398, 2998, 4196, 4798],\n",
       "        [2398, 2998, 4798, 5398],\n",
       "        [2398, 2998, 5398, 5997],\n",
       "        [2398, 2998, 5997, 6597],\n",
       "        [2398, 2998, 6597, 7190],\n",
       "        [2998, 3585,    0,  597],\n",
       "        [2998, 3585,  597, 1197],\n",
       "        [2998, 3585, 1197, 1798],\n",
       "        [2998, 3585, 1798, 2397],\n",
       "        [2998, 3585, 2397, 2996],\n",
       "        [2998, 3585, 2996, 3598],\n",
       "        [2998, 3585, 3598, 4196],\n",
       "        [2998, 3585, 4196, 4798],\n",
       "        [2998, 3585, 4798, 5398],\n",
       "        [2998, 3585, 5398, 5997],\n",
       "        [2998, 3585, 5997, 6597],\n",
       "        [2998, 3585, 6597, 7190]]), Counter({8: 2,\n",
       "          9: 2,\n",
       "          10: 29,\n",
       "          11: 28,\n",
       "          12: 11}), array([22, 47], dtype=int64)]"
      ]
     },
     "execution_count": 38,
     "metadata": {},
     "output_type": "execute_result"
    }
   ],
   "source": [
    "light_or_dark(paths[9], 6, 12)"
   ]
  },
  {
   "cell_type": "code",
   "execution_count": 32,
   "metadata": {
    "collapsed": true
   },
   "outputs": [
    {
     "name": "stdout",
     "output_type": "stream",
     "text": [
      "False\n",
      "False\n",
      "False\n",
      "False\n",
      "False\n",
      "False\n",
      "False\n",
      "False\n",
      "False\n",
      "True\n",
      "False\n",
      "False\n",
      "False\n",
      "False\n"
     ]
    }
   ],
   "source": [
    "for path in paths:\n",
    "    print(light_or_dark(path, 6, 12))"
   ]
  }
 ],
 "metadata": {
  "kernelspec": {
   "display_name": "Python 3",
   "language": "python",
   "name": "python3"
  },
  "language_info": {
   "codemirror_mode": {
    "name": "ipython",
    "version": 3
   },
   "file_extension": ".py",
   "mimetype": "text/x-python",
   "name": "python",
   "nbconvert_exporter": "python",
   "pygments_lexer": "ipython3",
   "version": "3.6.3"
  }
 },
 "nbformat": 4,
 "nbformat_minor": 2
}
